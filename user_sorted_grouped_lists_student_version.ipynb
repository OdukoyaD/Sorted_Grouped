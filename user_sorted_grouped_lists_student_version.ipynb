{
 "cells": [
  {
   "cell_type": "markdown",
   "metadata": {},
   "source": [
    "# Sorted and Group Lists\n",
    "\n",
    "\n",
    "## Challenge\n",
    "\n",
    "Given a list of lowercase strings, return a list with the strings in sorted in alphabetical order, except group all the strings that begin with `'x'` at the beginning of the list.<br>\n",
    "e.g. ['mix', 'xyz', 'apple', 'xanadu', 'aardvark'] yields<br>\n",
    "`['xanadu', 'xyz', 'aardvark', 'apple', 'mix']`<br>\n",
    "\n",
    "Hint: this can be done by making 2 lists and sorting each of them before combining them.\n",
    "\n",
    "Hint: Remember that Python's `list` object has a `sort()` function. Python a"
   ]
  },
  {
   "cell_type": "code",
   "execution_count": 2,
   "metadata": {
    "tags": []
   },
   "outputs": [],
   "source": [
    "### START FUNCTION\n",
    "def front_x(list_of_words):\n",
    "    # your code here\n",
    "    # HINT: create two lists (one will contain words that start with X, the other not):\n",
    "    list_x = []\n",
    "    list_not_x =[]\n",
    "    # HINT: loop through words \n",
    "    for word in list_of_words:\n",
    "        # HINT: use `if` to check if `word[0] == \"x\"`\n",
    "        if word[0] == 'x':\n",
    "        # HINT: add the word to the list it belongs using e.g. `list_x.append(word)`\n",
    "            list_x.append(word)\n",
    "        else:\n",
    "            list_not_x.append(word)\n",
    "    # HINT: sort the lists outside of the for loop using e.g. `list_x.sort()`\n",
    "    list_x.sort()\n",
    "    list_not_x.sort()\n",
    "    # HINT: add the lists together and return `list_x + list_not_x`        \n",
    "    New_order = list_x + list_not_x\n",
    "    return New_order\n",
    "### END FUNCTION"
   ]
  },
  {
   "cell_type": "markdown",
   "metadata": {},
   "source": [
    "You may upload to the Autograder as many times as you wish; It can be a useful ally.\n",
    "\n",
    "If the following statements return `True`, then your solution may be working."
   ]
  },
  {
   "cell_type": "code",
   "execution_count": 3,
   "metadata": {},
   "outputs": [
    {
     "data": {
      "text/plain": [
       "True"
      ]
     },
     "execution_count": 3,
     "metadata": {},
     "output_type": "execute_result"
    }
   ],
   "source": [
    "front_x(['netowrk', 'artist', 'xamarian', 'king', 'cat']) == ['xamarian', 'artist', 'cat', 'king', 'netowrk']"
   ]
  },
  {
   "cell_type": "markdown",
   "metadata": {},
   "source": [
    "**Expected Outputs:**\n",
    "```python\n",
    "front_x(['mix', 'xyz', 'apple', 'xanadu', 'aardvark']) == ['xanadu', 'xyz', 'aardvark', 'apple', 'mix']\n",
    "front_x(['netowrk', 'artist', 'xamarian', 'king', 'cat']) == ['xamarian', 'artist', 'cat', 'king', 'netowrk']\n",
    "front_x(['jhsdfi', 'jeiri', 'iopqwu', 'bhvaiau', 'loaks']) == ['bhvaiau', 'iopqwu', 'jeiri', 'jhsdfi', 'loaks']\n",
    "```"
   ]
  },
  {
   "cell_type": "markdown",
   "metadata": {},
   "source": [
    "## References\n",
    "\n",
    "This tutorial was created using the wonderful [Google Python Developers](https://developers.google.com/edu/python/) course, and has been modified under the [Creative Common's licence 2.5](https://creativecommons.org/licenses/by/2.5/) \n",
    "\n",
    "Copyright 2010 Google Inc.\n",
    "Licensed under the Apache License, Version 2.0\n",
    "http://www.apache.org/licenses/LICENSE-2.0\n",
    "\n",
    "Google's Python Class\n",
    "http://code.google.com/edu/languages/google-python-class/"
   ]
  }
 ],
 "metadata": {
  "kernelspec": {
   "display_name": "Python 3 (ipykernel)",
   "language": "python",
   "name": "python3"
  },
  "language_info": {
   "codemirror_mode": {
    "name": "ipython",
    "version": 3
   },
   "file_extension": ".py",
   "mimetype": "text/x-python",
   "name": "python",
   "nbconvert_exporter": "python",
   "pygments_lexer": "ipython3",
   "version": "3.9.7"
  }
 },
 "nbformat": 4,
 "nbformat_minor": 4
}
